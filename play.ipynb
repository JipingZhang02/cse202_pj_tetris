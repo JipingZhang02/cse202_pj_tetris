{
 "cells": [
  {
   "cell_type": "code",
   "execution_count": 20,
   "metadata": {},
   "outputs": [
    {
     "name": "stdout",
     "output_type": "stream",
     "text": [
      "['apple', 'apple', 'apple']\n"
     ]
    }
   ],
   "source": [
    "import random\n",
    "\n",
    "fruits = ['apple', 'banana', 'cherry', 'date']\n",
    "weights = [10, 1, 1, 1]  # Higher probability for 'apple'\n",
    "\n",
    "chosen_fruits = random.choices(fruits, weights=weights, k=3)\n",
    "print(chosen_fruits)"
   ]
  }
 ],
 "metadata": {
  "kernelspec": {
   "display_name": "Python 3",
   "language": "python",
   "name": "python3"
  },
  "language_info": {
   "codemirror_mode": {
    "name": "ipython",
    "version": 3
   },
   "file_extension": ".py",
   "mimetype": "text/x-python",
   "name": "python",
   "nbconvert_exporter": "python",
   "pygments_lexer": "ipython3",
   "version": "3.10.11"
  }
 },
 "nbformat": 4,
 "nbformat_minor": 2
}
